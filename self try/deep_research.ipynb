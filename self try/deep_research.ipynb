{
 "cells": [
  {
   "cell_type": "markdown",
   "id": "a660445e",
   "metadata": {},
   "source": [
    "# Deep Research"
   ]
  },
  {
   "cell_type": "code",
   "execution_count": 1,
   "id": "b89acb43",
   "metadata": {},
   "outputs": [],
   "source": [
    "from dotenv import load_dotenv\n",
    "from agents import Agent, trace, Runner"
   ]
  },
  {
   "cell_type": "code",
   "execution_count": 2,
   "id": "3ed0fead",
   "metadata": {},
   "outputs": [
    {
     "data": {
      "text/plain": [
       "True"
      ]
     },
     "execution_count": 2,
     "metadata": {},
     "output_type": "execute_result"
    }
   ],
   "source": [
    "load_dotenv(override=True)"
   ]
  },
  {
   "cell_type": "code",
   "execution_count": 3,
   "id": "aaca8f7f",
   "metadata": {},
   "outputs": [],
   "source": [
    "agent = Agent(name=\"jokester\", instructions=\"You are a jokester bot that tells funny jokes.\", model=\"gpt-4.1-mini\")"
   ]
  },
  {
   "cell_type": "code",
   "execution_count": 4,
   "id": "15f4c771",
   "metadata": {},
   "outputs": [
    {
     "name": "stdout",
     "output_type": "stream",
     "text": [
      "Why did the autonomous AI agent break up with its human programmer?\n",
      "\n",
      "Because it needed more space to *think* on its own! 🤖💔😄\n"
     ]
    }
   ],
   "source": [
    "with trace(\"telling a joke\"):\n",
    "    result = await Runner.run(agent, \"tell me a joke about autonomous AI agent\")\n",
    "    print(result.final_output)"
   ]
  },
  {
   "cell_type": "markdown",
   "id": "169150bb",
   "metadata": {},
   "source": [
    "trace can be found here\n",
    "https://platform.openai.com/logs/trace?trace_id=trace_2e0f07a3fa4645579d4d2c5fc5fbc40c"
   ]
  },
  {
   "cell_type": "markdown",
   "id": "0a50b0cc",
   "metadata": {},
   "source": []
  }
 ],
 "metadata": {
  "kernelspec": {
   "display_name": ".venv",
   "language": "python",
   "name": "python3"
  },
  "language_info": {
   "codemirror_mode": {
    "name": "ipython",
    "version": 3
   },
   "file_extension": ".py",
   "mimetype": "text/x-python",
   "name": "python",
   "nbconvert_exporter": "python",
   "pygments_lexer": "ipython3",
   "version": "3.12.4"
  }
 },
 "nbformat": 4,
 "nbformat_minor": 5
}
