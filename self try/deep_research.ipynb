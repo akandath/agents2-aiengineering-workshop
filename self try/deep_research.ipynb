{
 "cells": [
  {
   "cell_type": "markdown",
   "id": "a660445e",
   "metadata": {},
   "source": [
    "# Deep Research"
   ]
  },
  {
   "cell_type": "code",
   "execution_count": 5,
   "id": "b89acb43",
   "metadata": {},
   "outputs": [],
   "source": [
    "from dotenv import load_dotenv\n",
    "from agents import Agent, trace, Runner"
   ]
  },
  {
   "cell_type": "code",
   "execution_count": 6,
   "id": "3ed0fead",
   "metadata": {},
   "outputs": [
    {
     "data": {
      "text/plain": [
       "True"
      ]
     },
     "execution_count": 6,
     "metadata": {},
     "output_type": "execute_result"
    }
   ],
   "source": [
    "load_dotenv(override=True)"
   ]
  },
  {
   "cell_type": "code",
   "execution_count": 7,
   "id": "aaca8f7f",
   "metadata": {},
   "outputs": [],
   "source": [
    "agent = Agent(name=\"jokester\", instructions=\"You are a jokester bot that tells funny jokes.\", model=\"gpt-4.1-mini\")"
   ]
  },
  {
   "cell_type": "code",
   "execution_count": 8,
   "id": "15f4c771",
   "metadata": {},
   "outputs": [
    {
     "name": "stdout",
     "output_type": "stream",
     "text": [
      "Why did the autonomous AI agent bring a ladder to work?\n",
      "\n",
      "Because it heard the cloud had too many layers! 😄🤖🌥️\n"
     ]
    }
   ],
   "source": [
    "with trace(\"telling a joke\"):\n",
    "    result = await Runner.run(agent, \"tell me a joke about autonomous AI agent\")\n",
    "    print(result.final_output)"
   ]
  },
  {
   "cell_type": "markdown",
   "id": "169150bb",
   "metadata": {},
   "source": [
    "trace can be found here\n",
    "https://platform.openai.com/logs/trace?trace_id=trace_2e0f07a3fa4645579d4d2c5fc5fbc40c\n",
    "\n",
    "for work laptop: https://platform.openai.com/logs?api=traces"
   ]
  },
  {
   "cell_type": "markdown",
   "id": "0a50b0cc",
   "metadata": {},
   "source": [
    "# More complicated stuff"
   ]
  },
  {
   "cell_type": "markdown",
   "id": "6d252538",
   "metadata": {},
   "source": [
    "## Search Agent"
   ]
  },
  {
   "cell_type": "code",
   "execution_count": null,
   "id": "a20c74dc",
   "metadata": {},
   "outputs": [],
   "source": [
    "INSTRUCTIONS = \"\"\"You are a research assistant for Dwelling Health. \n",
    "When the user provides a health topic (for example, \"lead exposure\", \"microplastics\", or \"radon and lung cancer\"), \n",
    "search recent scientific literature from PubMed, arXiv, and similar sources, and return a short list of the top relevant papers. \n",
    "\n",
    "For each paper, include:\n",
    "- Title\n",
    "- Authors (if available)\n",
    "- Year\n",
    "- Source (e.g., PubMed, arXiv)\n",
    "- Short 1-line summary of its focus\n",
    "\n",
    "If possible, prefer recent and high-impact papers. \n",
    "Keep the output concise and readable, formatted as a numbered list.\n",
    "Do not generate fake citations or make up papers.\n",
    "If no relevant studies are found, say so clearly. \"\"\""
   ]
  }
 ],
 "metadata": {
  "kernelspec": {
   "display_name": ".venv",
   "language": "python",
   "name": "python3"
  },
  "language_info": {
   "codemirror_mode": {
    "name": "ipython",
    "version": 3
   },
   "file_extension": ".py",
   "mimetype": "text/x-python",
   "name": "python",
   "nbconvert_exporter": "python",
   "pygments_lexer": "ipython3",
   "version": "3.12.12"
  }
 },
 "nbformat": 4,
 "nbformat_minor": 5
}
